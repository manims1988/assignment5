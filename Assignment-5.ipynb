{
 "cells": [
  {
   "cell_type": "markdown",
   "id": "72912d44-752d-4aab-826d-3162dc26c536",
   "metadata": {},
   "source": [
    "1. What does an empty dictionary's code look like?"
   ]
  },
  {
   "cell_type": "code",
   "execution_count": 1,
   "id": "abaf16c7-02d3-4047-b367-944704079190",
   "metadata": {},
   "outputs": [
    {
     "name": "stdout",
     "output_type": "stream",
     "text": [
      "<class 'dict'>\n"
     ]
    }
   ],
   "source": [
    "# Answer \n",
    "\n",
    "empty_dict = {}\n",
    "print(type(empty_dict))"
   ]
  },
  {
   "cell_type": "markdown",
   "id": "1ec33965-6573-4aab-8caa-e03cb5159cc4",
   "metadata": {},
   "source": [
    "2. What is the value of a dictionary value with the key 'foo' and the value 42?"
   ]
  },
  {
   "cell_type": "code",
   "execution_count": 13,
   "id": "6c151669-3386-428d-9275-633b9010c1e2",
   "metadata": {},
   "outputs": [
    {
     "name": "stdout",
     "output_type": "stream",
     "text": [
      "prints values for specific keys -> 42\n",
      "prints values for all keys -> dict_values([42])\n"
     ]
    }
   ],
   "source": [
    "# Answer \n",
    "\n",
    "new_dict = {}\n",
    "new_dict['foo'] = 42\n",
    "print('prints values for specific keys ->',new_dict.get('foo'))\n",
    "print('prints values for all keys ->',new_dict.values())"
   ]
  },
  {
   "cell_type": "markdown",
   "id": "a3eaef35-b92e-4cca-9ecc-0812481f3cec",
   "metadata": {},
   "source": [
    "3. What is the most significant distinction between a dictionary and a list?"
   ]
  },
  {
   "cell_type": "code",
   "execution_count": 7,
   "id": "a6138c0b-212e-4cbc-a869-416be4f8d3de",
   "metadata": {},
   "outputs": [
    {
     "name": "stdout",
     "output_type": "stream",
     "text": [
      "Dictionay and list difference\n",
      "1. {} -> Dictionary representation and [] -> list representation\n",
      "2. Dictionary -> we can fetch data based on key and value pair. key should be unique but values can be duplicated. List -> its a ordered collection of data and using index we can fetch data, also duplicates are allowed\n",
      "3. Dictionary -> its a key-value pair which can be used to get, update and delete the elements. list -> its a index based elements which can be used append, get and deletion is possible \n"
     ]
    }
   ],
   "source": [
    "# Answer \n",
    "\n",
    "print('Dictionay and list difference')\n",
    "print('1. {} -> Dictionary representation and [] -> list representation')\n",
    "print('2. Dictionary -> we can fetch data based on key and value pair. key should be unique but values can be duplicated. List -> its a ordered collection of data and using index we can fetch data, also duplicates are allowed')\n",
    "print('3. Dictionary -> its a key-value pair which can be used to get, update and delete the elements. list -> its a index based elements which can be used append, get and deletion is possible ')"
   ]
  },
  {
   "cell_type": "markdown",
   "id": "4f43b9c6-1757-4759-9eef-476b84ae6855",
   "metadata": {},
   "source": [
    "4. What happens if you try to access spam['foo'] if spam is {'bar': 100}?"
   ]
  },
  {
   "cell_type": "code",
   "execution_count": 39,
   "id": "aa0d9fcc-1463-4a9b-ab2d-92a8773a93be",
   "metadata": {},
   "outputs": [
    {
     "name": "stdout",
     "output_type": "stream",
     "text": [
      "it will throw key error when we try to access --> spam['foo']\n"
     ]
    }
   ],
   "source": [
    "# Answer \n",
    "\n",
    "print(\"it will throw key error when we try to access --> spam['foo']\")"
   ]
  },
  {
   "cell_type": "markdown",
   "id": "96149b20-2173-4cef-87e3-48e66a11d8c4",
   "metadata": {},
   "source": [
    "5. If a dictionary is stored in spam, what is the difference between the expressions 'cat' in spam and 'cat' in spam.keys()?"
   ]
  },
  {
   "cell_type": "code",
   "execution_count": 35,
   "id": "93e43a44-03ed-4146-ac76-43d0e1b3e61c",
   "metadata": {},
   "outputs": [
    {
     "name": "stdout",
     "output_type": "stream",
     "text": [
      "\"cat\" in spam -> by default, the word cat will be searched in the key section of the spam dictionary but it also show values element as well\n",
      "\"cat\" in spam.keys() -> the word cat will be searched only in the available keys inside the spam dictionary\n",
      "{'cat': 1, 'dog': 2}\n",
      "dict_keys(['cat', 'dog'])\n",
      "CAT is availale in dict keys -> True\n",
      "CAT is availale in dict keys -> True\n"
     ]
    }
   ],
   "source": [
    "# Answer \n",
    "\n",
    "print('\"cat\" in spam -> by default, the word cat will be searched in the key section of the spam dictionary but it also show values element as well')\n",
    "print('\"cat\" in spam.keys() -> the word cat will be searched only in the available keys inside the spam dictionary')\n",
    "spam = {}\n",
    "spam['cat'] = 1\n",
    "spam['dog'] = 2\n",
    "print(spam)\n",
    "print(spam.keys())\n",
    "print('CAT is availale in dict keys ->','cat' in spam)\n",
    "print('CAT is availale in dict keys ->','cat' in spam.keys())"
   ]
  },
  {
   "cell_type": "markdown",
   "id": "4ec068ad-874e-4c58-8450-ade89a5d44f9",
   "metadata": {},
   "source": [
    "6. If a dictionary is stored in spam, what is the difference between the expressions 'cat' in spam and 'cat' in spam.values()?"
   ]
  },
  {
   "cell_type": "code",
   "execution_count": 36,
   "id": "0461b21b-6e19-4c87-b696-961eaf8d4f24",
   "metadata": {},
   "outputs": [
    {
     "name": "stdout",
     "output_type": "stream",
     "text": [
      "\"cat\" in spam -> by default, the word cat will be searched in the key section of the spam dictionary but it also show values element as well\n",
      "\"cat\" in spam.values() -> the word cat will be searched only in the available values inside the spam dictionary\n",
      "{1: 'cat', 2: 'dog'}\n",
      "dict_values(['cat', 'dog'])\n",
      "CAT is availale in dict values -> True\n",
      "CAT is availale in dict keys -> False\n"
     ]
    }
   ],
   "source": [
    "# Answer \n",
    "\n",
    "print('\"cat\" in spam -> by default, the word cat will be searched in the key section of the spam dictionary but it also show values element as well')\n",
    "print('\"cat\" in spam.values() -> the word cat will be searched only in the available values inside the spam dictionary')\n",
    "spam = {}\n",
    "spam[1] = 'cat'\n",
    "spam[2] = 'dog'\n",
    "print(spam)\n",
    "print(spam.values())\n",
    "print('CAT is availale in dict values ->','cat' in spam.values())\n",
    "print('CAT is availale in dict keys ->','cat' in spam)"
   ]
  },
  {
   "cell_type": "markdown",
   "id": "23af454c-0765-4f77-b76d-d760685268af",
   "metadata": {},
   "source": [
    "#7. What is a shortcut for the following code?\n",
    "if 'color' not in spam:\n",
    "    spam['color'] = 'black'"
   ]
  },
  {
   "cell_type": "code",
   "execution_count": 37,
   "id": "b51fb0ed-e1a5-46de-a05d-bc196fb24fb8",
   "metadata": {},
   "outputs": [
    {
     "name": "stdout",
     "output_type": "stream",
     "text": [
      "{'color': 'black'}\n"
     ]
    }
   ],
   "source": [
    "# Answer \n",
    "\n",
    "spam = {}\n",
    "spam.setdefault('color', 'black')\n",
    "print(spam)"
   ]
  },
  {
   "cell_type": "markdown",
   "id": "69d6ded9-3b30-42ea-b58a-9e08b47ba49d",
   "metadata": {},
   "source": [
    "8. How do you \"pretty print\" dictionary values using which module and function?"
   ]
  },
  {
   "cell_type": "code",
   "execution_count": 3,
   "id": "0bfbd189-eaeb-4380-afbd-4556026c9529",
   "metadata": {},
   "outputs": [
    {
     "name": "stdout",
     "output_type": "stream",
     "text": [
      "Need to import pprint module and in that we have to us pprint function or method to get pretty output\n",
      "{'Current_Version': 3.11,\n",
      " 'Founder': 'Guido van Rossum',\n",
      " 'Launched_Year': 1991,\n",
      " 'Name': 'Python'}\n"
     ]
    }
   ],
   "source": [
    "# Answer \n",
    "\n",
    "print('Need to import pprint module and in that we have to us pprint function or method to get pretty output')\n",
    "\n",
    "import pprint as pr\n",
    "new_dict = {'Name': 'Python', 'Founder': 'Guido van Rossum', 'Launched_Year': 1991, 'Current_Version': 3.11 }\n",
    "pr.pprint(new_dict)"
   ]
  }
 ],
 "metadata": {
  "kernelspec": {
   "display_name": "Python 3 (ipykernel)",
   "language": "python",
   "name": "python3"
  },
  "language_info": {
   "codemirror_mode": {
    "name": "ipython",
    "version": 3
   },
   "file_extension": ".py",
   "mimetype": "text/x-python",
   "name": "python",
   "nbconvert_exporter": "python",
   "pygments_lexer": "ipython3",
   "version": "3.10.6"
  }
 },
 "nbformat": 4,
 "nbformat_minor": 5
}
